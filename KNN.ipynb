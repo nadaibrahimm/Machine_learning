# Machine_learning 
%KNN %
import numpy as np
import matplotlib.pyplot as plt
import pandas as pd
import seaborn as sns
%matplotlib inline
df = pd.read_csv('/content/Classified Data.txt',index_col=0) 
df.head(20)
from sklearn.preprocessing import StandardScaler
scaler = StandardScaler()
scaler.fit(df.drop('TARGET CLASS',axis=1))
scaled_faeatures = scaler.transform(df.drop('TARGET CLASS',axis=1))
df_feat = pd.DataFrame(scaled_faeatures, columns=df.columns[:-1])  # Exclude the last column for features
print(df_feat.head())
from sklearn.model_selection import train_test_split
x_train, x_test, y_train, y_test = train_test_split(scaled_faeatures,df['TARGET CLASS'],test_size=0.3)
from sklearn.neighbors import KNeighborsClassifier
KNN = KNeighborsClassifier(n_neighbors=5)
KNN.fit(x_train,y_train)
PRED =KNN.predict(x_test)
from sklearn.metrics import classification_report, confusion_matrix  # Corrected import
# Print classification report and confusion matrix
print("Classification Report:\n", classification_report(y_test, PRED))
print("Confusion Matrix:\n", confusion_matrix(y_test, PRED))
error_rate = []
for i in range(1,40):
    
    KNN = KNeighborsClassifier(n_neighbors=i)
    KNN.fit(x_train,y_train)
    pred_i = KNN.predict(x_test)
    error_rate.append(np.mean(pred_i != y_test))
plt.figure(figsize=(10,6))
plt.plot(range(1,40),error_rate,color='blue', linestyle='dashed', marker='o',
         markerfacecolor='red', markersize=10)
plt.title('Error Rate vs. K Value')
plt.xlabel('K')
plt.ylabel('Error Rate')
# FIRST A QUICK COMPARISON TO OUR ORIGINAL K=5
knn = KNeighborsClassifier(n_neighbors=1)

KNN.fit(x_train,y_train)
pred = KNN.predict(x_test)

print('WITH K=5')
print('\n')
print(confusion_matrix(y_test,pred))
print('\n')
print(classification_report(y_test,pred))
# FIRST A QUICK COMPARISON TO OUR ORIGINAL K=23
knn = KNeighborsClassifier(n_neighbors=23)

KNN.fit(x_train,y_train)
pred = KNN.predict(x_test)

print('WITH K=5')
print('\n')
print(confusion_matrix(y_test,pred))
print('\n')
print(classification_report(y_test,pred))

